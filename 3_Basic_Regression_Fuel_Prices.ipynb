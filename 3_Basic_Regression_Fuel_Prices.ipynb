{
 "cells": [
  {
   "cell_type": "markdown",
   "metadata": {},
   "source": [
    "- In regression problem, the aim is to predict the output of a continuous value, like price or pobability"
   ]
  },
  {
   "cell_type": "code",
   "execution_count": 1,
   "metadata": {},
   "outputs": [
    {
     "name": "stdout",
     "output_type": "stream",
     "text": [
      "2.7.0\n"
     ]
    }
   ],
   "source": [
    "import matplotlib.pyplot as plt\n",
    "import numpy as np\n",
    "import pandas as pd\n",
    "import seaborn as sns\n",
    "import tensorflow as tf\n",
    "\n",
    "from tensorflow import keras\n",
    "from tensorflow.keras import layers\n",
    "\n",
    "print(tf.__version__)"
   ]
  },
  {
   "cell_type": "markdown",
   "metadata": {},
   "source": [
    "- import dataset"
   ]
  },
  {
   "cell_type": "code",
   "execution_count": 2,
   "metadata": {},
   "outputs": [],
   "source": [
    "url = 'http://archive.ics.uci.edu/ml/machine-learning-databases/auto-mpg/auto-mpg.data'   #Import data from url\n",
    "column_names = ['MPG', 'Cylinders', 'Displacement', 'Horsepower', 'Weight',           #For dataframe, give column names \n",
    "                'Acceleration', 'Model Year', 'Origin']\n",
    "\n",
    "raw_dataset = pd.read_csv(url, names=column_names,                   #Convert csv to pd with specific requirements\n",
    "                          na_values='?', comment='\\t',\n",
    "                          sep=' ', skipinitialspace=True)                        "
   ]
  },
  {
   "cell_type": "code",
   "execution_count": 3,
   "metadata": {},
   "outputs": [
    {
     "data": {
      "text/html": [
       "<div>\n",
       "<style scoped>\n",
       "    .dataframe tbody tr th:only-of-type {\n",
       "        vertical-align: middle;\n",
       "    }\n",
       "\n",
       "    .dataframe tbody tr th {\n",
       "        vertical-align: top;\n",
       "    }\n",
       "\n",
       "    .dataframe thead th {\n",
       "        text-align: right;\n",
       "    }\n",
       "</style>\n",
       "<table border=\"1\" class=\"dataframe\">\n",
       "  <thead>\n",
       "    <tr style=\"text-align: right;\">\n",
       "      <th></th>\n",
       "      <th>MPG</th>\n",
       "      <th>Cylinders</th>\n",
       "      <th>Displacement</th>\n",
       "      <th>Horsepower</th>\n",
       "      <th>Weight</th>\n",
       "      <th>Acceleration</th>\n",
       "      <th>Model Year</th>\n",
       "      <th>Origin</th>\n",
       "    </tr>\n",
       "  </thead>\n",
       "  <tbody>\n",
       "    <tr>\n",
       "      <th>0</th>\n",
       "      <td>18.0</td>\n",
       "      <td>8</td>\n",
       "      <td>307.0</td>\n",
       "      <td>130.0</td>\n",
       "      <td>3504.0</td>\n",
       "      <td>12.0</td>\n",
       "      <td>70</td>\n",
       "      <td>1</td>\n",
       "    </tr>\n",
       "    <tr>\n",
       "      <th>1</th>\n",
       "      <td>15.0</td>\n",
       "      <td>8</td>\n",
       "      <td>350.0</td>\n",
       "      <td>165.0</td>\n",
       "      <td>3693.0</td>\n",
       "      <td>11.5</td>\n",
       "      <td>70</td>\n",
       "      <td>1</td>\n",
       "    </tr>\n",
       "    <tr>\n",
       "      <th>2</th>\n",
       "      <td>18.0</td>\n",
       "      <td>8</td>\n",
       "      <td>318.0</td>\n",
       "      <td>150.0</td>\n",
       "      <td>3436.0</td>\n",
       "      <td>11.0</td>\n",
       "      <td>70</td>\n",
       "      <td>1</td>\n",
       "    </tr>\n",
       "    <tr>\n",
       "      <th>3</th>\n",
       "      <td>16.0</td>\n",
       "      <td>8</td>\n",
       "      <td>304.0</td>\n",
       "      <td>150.0</td>\n",
       "      <td>3433.0</td>\n",
       "      <td>12.0</td>\n",
       "      <td>70</td>\n",
       "      <td>1</td>\n",
       "    </tr>\n",
       "    <tr>\n",
       "      <th>4</th>\n",
       "      <td>17.0</td>\n",
       "      <td>8</td>\n",
       "      <td>302.0</td>\n",
       "      <td>140.0</td>\n",
       "      <td>3449.0</td>\n",
       "      <td>10.5</td>\n",
       "      <td>70</td>\n",
       "      <td>1</td>\n",
       "    </tr>\n",
       "  </tbody>\n",
       "</table>\n",
       "</div>"
      ],
      "text/plain": [
       "    MPG  Cylinders  Displacement  Horsepower  Weight  Acceleration  \\\n",
       "0  18.0          8         307.0       130.0  3504.0          12.0   \n",
       "1  15.0          8         350.0       165.0  3693.0          11.5   \n",
       "2  18.0          8         318.0       150.0  3436.0          11.0   \n",
       "3  16.0          8         304.0       150.0  3433.0          12.0   \n",
       "4  17.0          8         302.0       140.0  3449.0          10.5   \n",
       "\n",
       "   Model Year  Origin  \n",
       "0          70       1  \n",
       "1          70       1  \n",
       "2          70       1  \n",
       "3          70       1  \n",
       "4          70       1  "
      ]
     },
     "execution_count": 3,
     "metadata": {},
     "output_type": "execute_result"
    }
   ],
   "source": [
    "dataset = raw_dataset.copy()\n",
    "dataset.head() "
   ]
  },
  {
   "cell_type": "markdown",
   "metadata": {},
   "source": [
    "- clean data (Checking for NA)"
   ]
  },
  {
   "cell_type": "code",
   "execution_count": 4,
   "metadata": {},
   "outputs": [
    {
     "data": {
      "text/plain": [
       "MPG             0\n",
       "Cylinders       0\n",
       "Displacement    0\n",
       "Horsepower      6\n",
       "Weight          0\n",
       "Acceleration    0\n",
       "Model Year      0\n",
       "Origin          0\n",
       "dtype: int64"
      ]
     },
     "execution_count": 4,
     "metadata": {},
     "output_type": "execute_result"
    }
   ],
   "source": [
    "dataset.isna().sum() #Check if any na or nan value is present in the df"
   ]
  },
  {
   "cell_type": "code",
   "execution_count": 5,
   "metadata": {},
   "outputs": [],
   "source": [
    "#Drop rows with na\n",
    "dataset = dataset.dropna()"
   ]
  },
  {
   "cell_type": "markdown",
   "metadata": {},
   "source": [
    "- Origin column is a categorical value, not numeric. One-hot encoding with pd.get_dummies"
   ]
  },
  {
   "cell_type": "code",
   "execution_count": 6,
   "metadata": {},
   "outputs": [
    {
     "data": {
      "text/html": [
       "<div>\n",
       "<style scoped>\n",
       "    .dataframe tbody tr th:only-of-type {\n",
       "        vertical-align: middle;\n",
       "    }\n",
       "\n",
       "    .dataframe tbody tr th {\n",
       "        vertical-align: top;\n",
       "    }\n",
       "\n",
       "    .dataframe thead th {\n",
       "        text-align: right;\n",
       "    }\n",
       "</style>\n",
       "<table border=\"1\" class=\"dataframe\">\n",
       "  <thead>\n",
       "    <tr style=\"text-align: right;\">\n",
       "      <th></th>\n",
       "      <th>MPG</th>\n",
       "      <th>Cylinders</th>\n",
       "      <th>Displacement</th>\n",
       "      <th>Horsepower</th>\n",
       "      <th>Weight</th>\n",
       "      <th>Acceleration</th>\n",
       "      <th>Model Year</th>\n",
       "      <th>Origin</th>\n",
       "    </tr>\n",
       "  </thead>\n",
       "  <tbody>\n",
       "    <tr>\n",
       "      <th>0</th>\n",
       "      <td>18.0</td>\n",
       "      <td>8</td>\n",
       "      <td>307.0</td>\n",
       "      <td>130.0</td>\n",
       "      <td>3504.0</td>\n",
       "      <td>12.0</td>\n",
       "      <td>70</td>\n",
       "      <td>USA</td>\n",
       "    </tr>\n",
       "    <tr>\n",
       "      <th>1</th>\n",
       "      <td>15.0</td>\n",
       "      <td>8</td>\n",
       "      <td>350.0</td>\n",
       "      <td>165.0</td>\n",
       "      <td>3693.0</td>\n",
       "      <td>11.5</td>\n",
       "      <td>70</td>\n",
       "      <td>USA</td>\n",
       "    </tr>\n",
       "    <tr>\n",
       "      <th>2</th>\n",
       "      <td>18.0</td>\n",
       "      <td>8</td>\n",
       "      <td>318.0</td>\n",
       "      <td>150.0</td>\n",
       "      <td>3436.0</td>\n",
       "      <td>11.0</td>\n",
       "      <td>70</td>\n",
       "      <td>USA</td>\n",
       "    </tr>\n",
       "    <tr>\n",
       "      <th>3</th>\n",
       "      <td>16.0</td>\n",
       "      <td>8</td>\n",
       "      <td>304.0</td>\n",
       "      <td>150.0</td>\n",
       "      <td>3433.0</td>\n",
       "      <td>12.0</td>\n",
       "      <td>70</td>\n",
       "      <td>USA</td>\n",
       "    </tr>\n",
       "    <tr>\n",
       "      <th>4</th>\n",
       "      <td>17.0</td>\n",
       "      <td>8</td>\n",
       "      <td>302.0</td>\n",
       "      <td>140.0</td>\n",
       "      <td>3449.0</td>\n",
       "      <td>10.5</td>\n",
       "      <td>70</td>\n",
       "      <td>USA</td>\n",
       "    </tr>\n",
       "  </tbody>\n",
       "</table>\n",
       "</div>"
      ],
      "text/plain": [
       "    MPG  Cylinders  Displacement  Horsepower  Weight  Acceleration  \\\n",
       "0  18.0          8         307.0       130.0  3504.0          12.0   \n",
       "1  15.0          8         350.0       165.0  3693.0          11.5   \n",
       "2  18.0          8         318.0       150.0  3436.0          11.0   \n",
       "3  16.0          8         304.0       150.0  3433.0          12.0   \n",
       "4  17.0          8         302.0       140.0  3449.0          10.5   \n",
       "\n",
       "   Model Year Origin  \n",
       "0          70    USA  \n",
       "1          70    USA  \n",
       "2          70    USA  \n",
       "3          70    USA  \n",
       "4          70    USA  "
      ]
     },
     "execution_count": 6,
     "metadata": {},
     "output_type": "execute_result"
    }
   ],
   "source": [
    "dataset['Origin'] = dataset['Origin'].map({1: 'USA', 2: 'Europe', 3: 'Japan'})\n",
    "dataset.head()"
   ]
  },
  {
   "cell_type": "markdown",
   "metadata": {},
   "source": [
    "- Seperating Origin column by value into column for each"
   ]
  },
  {
   "cell_type": "code",
   "execution_count": 7,
   "metadata": {},
   "outputs": [
    {
     "data": {
      "text/html": [
       "<div>\n",
       "<style scoped>\n",
       "    .dataframe tbody tr th:only-of-type {\n",
       "        vertical-align: middle;\n",
       "    }\n",
       "\n",
       "    .dataframe tbody tr th {\n",
       "        vertical-align: top;\n",
       "    }\n",
       "\n",
       "    .dataframe thead th {\n",
       "        text-align: right;\n",
       "    }\n",
       "</style>\n",
       "<table border=\"1\" class=\"dataframe\">\n",
       "  <thead>\n",
       "    <tr style=\"text-align: right;\">\n",
       "      <th></th>\n",
       "      <th>MPG</th>\n",
       "      <th>Cylinders</th>\n",
       "      <th>Displacement</th>\n",
       "      <th>Horsepower</th>\n",
       "      <th>Weight</th>\n",
       "      <th>Acceleration</th>\n",
       "      <th>Model Year</th>\n",
       "      <th>Europe</th>\n",
       "      <th>Japan</th>\n",
       "      <th>USA</th>\n",
       "    </tr>\n",
       "  </thead>\n",
       "  <tbody>\n",
       "    <tr>\n",
       "      <th>0</th>\n",
       "      <td>18.0</td>\n",
       "      <td>8</td>\n",
       "      <td>307.0</td>\n",
       "      <td>130.0</td>\n",
       "      <td>3504.0</td>\n",
       "      <td>12.0</td>\n",
       "      <td>70</td>\n",
       "      <td>0</td>\n",
       "      <td>0</td>\n",
       "      <td>1</td>\n",
       "    </tr>\n",
       "    <tr>\n",
       "      <th>1</th>\n",
       "      <td>15.0</td>\n",
       "      <td>8</td>\n",
       "      <td>350.0</td>\n",
       "      <td>165.0</td>\n",
       "      <td>3693.0</td>\n",
       "      <td>11.5</td>\n",
       "      <td>70</td>\n",
       "      <td>0</td>\n",
       "      <td>0</td>\n",
       "      <td>1</td>\n",
       "    </tr>\n",
       "    <tr>\n",
       "      <th>2</th>\n",
       "      <td>18.0</td>\n",
       "      <td>8</td>\n",
       "      <td>318.0</td>\n",
       "      <td>150.0</td>\n",
       "      <td>3436.0</td>\n",
       "      <td>11.0</td>\n",
       "      <td>70</td>\n",
       "      <td>0</td>\n",
       "      <td>0</td>\n",
       "      <td>1</td>\n",
       "    </tr>\n",
       "    <tr>\n",
       "      <th>3</th>\n",
       "      <td>16.0</td>\n",
       "      <td>8</td>\n",
       "      <td>304.0</td>\n",
       "      <td>150.0</td>\n",
       "      <td>3433.0</td>\n",
       "      <td>12.0</td>\n",
       "      <td>70</td>\n",
       "      <td>0</td>\n",
       "      <td>0</td>\n",
       "      <td>1</td>\n",
       "    </tr>\n",
       "    <tr>\n",
       "      <th>4</th>\n",
       "      <td>17.0</td>\n",
       "      <td>8</td>\n",
       "      <td>302.0</td>\n",
       "      <td>140.0</td>\n",
       "      <td>3449.0</td>\n",
       "      <td>10.5</td>\n",
       "      <td>70</td>\n",
       "      <td>0</td>\n",
       "      <td>0</td>\n",
       "      <td>1</td>\n",
       "    </tr>\n",
       "  </tbody>\n",
       "</table>\n",
       "</div>"
      ],
      "text/plain": [
       "    MPG  Cylinders  Displacement  Horsepower  Weight  Acceleration  \\\n",
       "0  18.0          8         307.0       130.0  3504.0          12.0   \n",
       "1  15.0          8         350.0       165.0  3693.0          11.5   \n",
       "2  18.0          8         318.0       150.0  3436.0          11.0   \n",
       "3  16.0          8         304.0       150.0  3433.0          12.0   \n",
       "4  17.0          8         302.0       140.0  3449.0          10.5   \n",
       "\n",
       "   Model Year  Europe  Japan  USA  \n",
       "0          70       0      0    1  \n",
       "1          70       0      0    1  \n",
       "2          70       0      0    1  \n",
       "3          70       0      0    1  \n",
       "4          70       0      0    1  "
      ]
     },
     "execution_count": 7,
     "metadata": {},
     "output_type": "execute_result"
    }
   ],
   "source": [
    "dataset = pd.get_dummies(dataset, columns=['Origin'], prefix='', prefix_sep='')\n",
    "dataset.head()"
   ]
  },
  {
   "cell_type": "markdown",
   "metadata": {},
   "source": [
    "## Split data into Train / Test sets"
   ]
  },
  {
   "cell_type": "code",
   "execution_count": 8,
   "metadata": {},
   "outputs": [],
   "source": [
    "train_dataset = dataset.sample(frac=0.8, random_state=0)               #Seperate into 80/20\n",
    "test_dataset = dataset.drop(train_dataset.index)"
   ]
  },
  {
   "cell_type": "markdown",
   "metadata": {},
   "source": [
    "- Using seaborn to inspect Train Dataset"
   ]
  },
  {
   "cell_type": "code",
   "execution_count": 9,
   "metadata": {},
   "outputs": [
    {
     "data": {
      "text/plain": [
       "<seaborn.axisgrid.PairGrid at 0x1d36b581370>"
      ]
     },
     "execution_count": 9,
     "metadata": {},
     "output_type": "execute_result"
    },
    {
     "data": {
      "image/png": "[encoded data removed]",
      "text/plain": [
       "<Figure size 720x720 with 20 Axes>"
      ]
     },
     "metadata": {
      "needs_background": "light"
     },
     "output_type": "display_data"
    }
   ],
   "source": [
    "sns.pairplot(train_dataset[['MPG', 'Cylinders', 'Displacement', 'Weight']], diag_kind='kde')"
   ]
  },
  {
   "cell_type": "markdown",
   "metadata": {},
   "source": [
    "- Overall statistics of the training Dataset"
   ]
  },
  {
   "cell_type": "code",
   "execution_count": 10,
   "metadata": {},
   "outputs": [
    {
     "data": {
      "text/html": [
       "<div>\n",
       "<style scoped>\n",
       "    .dataframe tbody tr th:only-of-type {\n",
       "        vertical-align: middle;\n",
       "    }\n",
       "\n",
       "    .dataframe tbody tr th {\n",
       "        vertical-align: top;\n",
       "    }\n",
       "\n",
       "    .dataframe thead th {\n",
       "        text-align: right;\n",
       "    }\n",
       "</style>\n",
       "<table border=\"1\" class=\"dataframe\">\n",
       "  <thead>\n",
       "    <tr style=\"text-align: right;\">\n",
       "      <th></th>\n",
       "      <th>count</th>\n",
       "      <th>mean</th>\n",
       "      <th>std</th>\n",
       "      <th>min</th>\n",
       "      <th>25%</th>\n",
       "      <th>50%</th>\n",
       "      <th>75%</th>\n",
       "      <th>max</th>\n",
       "    </tr>\n",
       "  </thead>\n",
       "  <tbody>\n",
       "    <tr>\n",
       "      <th>MPG</th>\n",
       "      <td>314.0</td>\n",
       "      <td>23.310510</td>\n",
       "      <td>7.728652</td>\n",
       "      <td>10.0</td>\n",
       "      <td>17.00</td>\n",
       "      <td>22.0</td>\n",
       "      <td>28.95</td>\n",
       "      <td>46.6</td>\n",
       "    </tr>\n",
       "    <tr>\n",
       "      <th>Cylinders</th>\n",
       "      <td>314.0</td>\n",
       "      <td>5.477707</td>\n",
       "      <td>1.699788</td>\n",
       "      <td>3.0</td>\n",
       "      <td>4.00</td>\n",
       "      <td>4.0</td>\n",
       "      <td>8.00</td>\n",
       "      <td>8.0</td>\n",
       "    </tr>\n",
       "    <tr>\n",
       "      <th>Displacement</th>\n",
       "      <td>314.0</td>\n",
       "      <td>195.318471</td>\n",
       "      <td>104.331589</td>\n",
       "      <td>68.0</td>\n",
       "      <td>105.50</td>\n",
       "      <td>151.0</td>\n",
       "      <td>265.75</td>\n",
       "      <td>455.0</td>\n",
       "    </tr>\n",
       "    <tr>\n",
       "      <th>Horsepower</th>\n",
       "      <td>314.0</td>\n",
       "      <td>104.869427</td>\n",
       "      <td>38.096214</td>\n",
       "      <td>46.0</td>\n",
       "      <td>76.25</td>\n",
       "      <td>94.5</td>\n",
       "      <td>128.00</td>\n",
       "      <td>225.0</td>\n",
       "    </tr>\n",
       "    <tr>\n",
       "      <th>Weight</th>\n",
       "      <td>314.0</td>\n",
       "      <td>2990.251592</td>\n",
       "      <td>843.898596</td>\n",
       "      <td>1649.0</td>\n",
       "      <td>2256.50</td>\n",
       "      <td>2822.5</td>\n",
       "      <td>3608.00</td>\n",
       "      <td>5140.0</td>\n",
       "    </tr>\n",
       "    <tr>\n",
       "      <th>Acceleration</th>\n",
       "      <td>314.0</td>\n",
       "      <td>15.559236</td>\n",
       "      <td>2.789230</td>\n",
       "      <td>8.0</td>\n",
       "      <td>13.80</td>\n",
       "      <td>15.5</td>\n",
       "      <td>17.20</td>\n",
       "      <td>24.8</td>\n",
       "    </tr>\n",
       "    <tr>\n",
       "      <th>Model Year</th>\n",
       "      <td>314.0</td>\n",
       "      <td>75.898089</td>\n",
       "      <td>3.675642</td>\n",
       "      <td>70.0</td>\n",
       "      <td>73.00</td>\n",
       "      <td>76.0</td>\n",
       "      <td>79.00</td>\n",
       "      <td>82.0</td>\n",
       "    </tr>\n",
       "    <tr>\n",
       "      <th>Europe</th>\n",
       "      <td>314.0</td>\n",
       "      <td>0.178344</td>\n",
       "      <td>0.383413</td>\n",
       "      <td>0.0</td>\n",
       "      <td>0.00</td>\n",
       "      <td>0.0</td>\n",
       "      <td>0.00</td>\n",
       "      <td>1.0</td>\n",
       "    </tr>\n",
       "    <tr>\n",
       "      <th>Japan</th>\n",
       "      <td>314.0</td>\n",
       "      <td>0.197452</td>\n",
       "      <td>0.398712</td>\n",
       "      <td>0.0</td>\n",
       "      <td>0.00</td>\n",
       "      <td>0.0</td>\n",
       "      <td>0.00</td>\n",
       "      <td>1.0</td>\n",
       "    </tr>\n",
       "    <tr>\n",
       "      <th>USA</th>\n",
       "      <td>314.0</td>\n",
       "      <td>0.624204</td>\n",
       "      <td>0.485101</td>\n",
       "      <td>0.0</td>\n",
       "      <td>0.00</td>\n",
       "      <td>1.0</td>\n",
       "      <td>1.00</td>\n",
       "      <td>1.0</td>\n",
       "    </tr>\n",
       "  </tbody>\n",
       "</table>\n",
       "</div>"
      ],
      "text/plain": [
       "              count         mean         std     min      25%     50%  \\\n",
       "MPG           314.0    23.310510    7.728652    10.0    17.00    22.0   \n",
       "Cylinders     314.0     5.477707    1.699788     3.0     4.00     4.0   \n",
       "Displacement  314.0   195.318471  104.331589    68.0   105.50   151.0   \n",
       "Horsepower    314.0   104.869427   38.096214    46.0    76.25    94.5   \n",
       "Weight        314.0  2990.251592  843.898596  1649.0  2256.50  2822.5   \n",
       "Acceleration  314.0    15.559236    2.789230     8.0    13.80    15.5   \n",
       "Model Year    314.0    75.898089    3.675642    70.0    73.00    76.0   \n",
       "Europe        314.0     0.178344    0.383413     0.0     0.00     0.0   \n",
       "Japan         314.0     0.197452    0.398712     0.0     0.00     0.0   \n",
       "USA           314.0     0.624204    0.485101     0.0     0.00     1.0   \n",
       "\n",
       "                  75%     max  \n",
       "MPG             28.95    46.6  \n",
       "Cylinders        8.00     8.0  \n",
       "Displacement   265.75   455.0  \n",
       "Horsepower     128.00   225.0  \n",
       "Weight        3608.00  5140.0  \n",
       "Acceleration    17.20    24.8  \n",
       "Model Year      79.00    82.0  \n",
       "Europe           0.00     1.0  \n",
       "Japan            0.00     1.0  \n",
       "USA              1.00     1.0  "
      ]
     },
     "execution_count": 10,
     "metadata": {},
     "output_type": "execute_result"
    }
   ],
   "source": [
    "train_dataset.describe().transpose()"
   ]
  },
  {
   "cell_type": "markdown",
   "metadata": {},
   "source": [
    "- Seperate into Feature and labels"
   ]
  },
  {
   "cell_type": "code",
   "execution_count": 11,
   "metadata": {},
   "outputs": [],
   "source": [
    "train_features = train_dataset.copy()\n",
    "test_features = test_dataset.copy()\n",
    "\n",
    "train_labels = train_features.pop('MPG')\n",
    "test_labels = test_features.pop('MPG')"
   ]
  },
  {
   "cell_type": "markdown",
   "metadata": {},
   "source": [
    "## Normalization\n",
    "- Initially check range of features to check how they vary"
   ]
  },
  {
   "cell_type": "code",
   "execution_count": 12,
   "metadata": {},
   "outputs": [
    {
     "data": {
      "text/html": [
       "<div>\n",
       "<style scoped>\n",
       "    .dataframe tbody tr th:only-of-type {\n",
       "        vertical-align: middle;\n",
       "    }\n",
       "\n",
       "    .dataframe tbody tr th {\n",
       "        vertical-align: top;\n",
       "    }\n",
       "\n",
       "    .dataframe thead th {\n",
       "        text-align: right;\n",
       "    }\n",
       "</style>\n",
       "<table border=\"1\" class=\"dataframe\">\n",
       "  <thead>\n",
       "    <tr style=\"text-align: right;\">\n",
       "      <th></th>\n",
       "      <th>mean</th>\n",
       "      <th>std</th>\n",
       "    </tr>\n",
       "  </thead>\n",
       "  <tbody>\n",
       "    <tr>\n",
       "      <th>MPG</th>\n",
       "      <td>23.310510</td>\n",
       "      <td>7.728652</td>\n",
       "    </tr>\n",
       "    <tr>\n",
       "      <th>Cylinders</th>\n",
       "      <td>5.477707</td>\n",
       "      <td>1.699788</td>\n",
       "    </tr>\n",
       "    <tr>\n",
       "      <th>Displacement</th>\n",
       "      <td>195.318471</td>\n",
       "      <td>104.331589</td>\n",
       "    </tr>\n",
       "    <tr>\n",
       "      <th>Horsepower</th>\n",
       "      <td>104.869427</td>\n",
       "      <td>38.096214</td>\n",
       "    </tr>\n",
       "    <tr>\n",
       "      <th>Weight</th>\n",
       "      <td>2990.251592</td>\n",
       "      <td>843.898596</td>\n",
       "    </tr>\n",
       "    <tr>\n",
       "      <th>Acceleration</th>\n",
       "      <td>15.559236</td>\n",
       "      <td>2.789230</td>\n",
       "    </tr>\n",
       "    <tr>\n",
       "      <th>Model Year</th>\n",
       "      <td>75.898089</td>\n",
       "      <td>3.675642</td>\n",
       "    </tr>\n",
       "    <tr>\n",
       "      <th>Europe</th>\n",
       "      <td>0.178344</td>\n",
       "      <td>0.383413</td>\n",
       "    </tr>\n",
       "    <tr>\n",
       "      <th>Japan</th>\n",
       "      <td>0.197452</td>\n",
       "      <td>0.398712</td>\n",
       "    </tr>\n",
       "    <tr>\n",
       "      <th>USA</th>\n",
       "      <td>0.624204</td>\n",
       "      <td>0.485101</td>\n",
       "    </tr>\n",
       "  </tbody>\n",
       "</table>\n",
       "</div>"
      ],
      "text/plain": [
       "                     mean         std\n",
       "MPG             23.310510    7.728652\n",
       "Cylinders        5.477707    1.699788\n",
       "Displacement   195.318471  104.331589\n",
       "Horsepower     104.869427   38.096214\n",
       "Weight        2990.251592  843.898596\n",
       "Acceleration    15.559236    2.789230\n",
       "Model Year      75.898089    3.675642\n",
       "Europe           0.178344    0.383413\n",
       "Japan            0.197452    0.398712\n",
       "USA              0.624204    0.485101"
      ]
     },
     "execution_count": 12,
     "metadata": {},
     "output_type": "execute_result"
    }
   ],
   "source": [
    "train_dataset.describe().transpose()[['mean','std']]"
   ]
  },
  {
   "cell_type": "markdown",
   "metadata": {},
   "source": [
    "- One important reason normalization is important is because the features are multiplied by the model weights. Therefore, the scale of the outputs and scale of gradients is affected by scale of the inputs.\n",
    "- A model 'might' converge without feature normalization, but it makes it more stable."
   ]
  },
  {
   "cell_type": "markdown",
   "metadata": {},
   "source": [
    "##### Normalization layer\n",
    "- A Preprocessing layer which normalizes continuous features\n",
    "- This layer will shift and scale inputs into a distribution centered around 0 with standard deviation 1.\n",
    "- Calculates by precomputing the mean and variance of data, and calling *(input - mean) / sqrt(var)*\n",
    "\n",
    "\n",
    "- The mean and variance values for the layer must be either supplied on construction or learned via **adapt()**\n",
    "\n",
    "##### adapt()\n",
    "- adapt() will compute the mean and variance of the data and store them as the layer's weights.\n",
    "- Should be called before fit(), evaluate() or predict()\n",
    "\n",
    "- Calling adapt() on a Normalization layer is an alternative to passing in 'mean' and 'variance' arguments during layer construction.\n",
    "- A normalization layer should always be adapted over a dataset or pass 'mean' and 'variance' manually.\n",
    "\n",
    "- During adapt(), the layer will compute 'mean' and 'variance' seperately for each position in each axis specified by 'axis' argument.\n",
    "- if 'axis' == None, a single 'mean' and 'variance' will be calculated.\n"
   ]
  },
  {
   "cell_type": "code",
   "execution_count": 13,
   "metadata": {},
   "outputs": [],
   "source": [
    "#First, create the layer\n",
    "normalizer = tf.keras.layers.Normalization(axis=-1)\n",
    "\n",
    "#Then, fit the state of the preprocessing layer to the data by calling\n",
    "normalizer.adapt(np.array(train_features))"
   ]
  },
  {
   "cell_type": "code",
   "execution_count": 14,
   "metadata": {},
   "outputs": [
    {
     "data": {
      "text/plain": [
       "array([[5.47770691e+00, 1.95318497e+02, 1.04869446e+02, 2.99025171e+03,\n",
       "        1.55592356e+01, 7.58980942e+01, 1.78343967e-01, 1.97452217e-01,\n",
       "        6.24203861e-01]], dtype=float32)"
      ]
     },
     "execution_count": 14,
     "metadata": {},
     "output_type": "execute_result"
    }
   ],
   "source": [
    "normalizer.mean.numpy()"
   ]
  },
  {
   "cell_type": "markdown",
   "metadata": {},
   "source": [
    "- #When the layer is called, it returns the input data -> with each feature independently normalized\n"
   ]
  },
  {
   "cell_type": "code",
   "execution_count": 17,
   "metadata": {},
   "outputs": [
    {
     "name": "stdout",
     "output_type": "stream",
     "text": [
      "First example: [[   4.    90.    75.  2125.    14.5   74.     0.     0.     1. ]]\n",
      "\n",
      "Normalized [[-0.87 -1.01 -0.79 -1.03 -0.38 -0.52 -0.47 -0.5   0.78]]\n"
     ]
    }
   ],
   "source": [
    "#Trial\n",
    "first = np.array(train_features[:1])\n",
    "\n",
    "with np.printoptions(precision=2, suppress=True):\n",
    "    print('First example:', first)\n",
    "    print()\n",
    "    print('Normalized', normalizer(first).numpy())"
   ]
  },
  {
   "cell_type": "markdown",
   "metadata": {},
   "source": [
    "# Linear Regression"
   ]
  },
  {
   "cell_type": "markdown",
   "metadata": {},
   "source": [
    "#### Linear regression with one variable"
   ]
  },
  {
   "cell_type": "code",
   "execution_count": 22,
   "metadata": {},
   "outputs": [],
   "source": [
    "#Comparing 'MPG' and 'HorsePower'\n",
    "\n",
    "#Required two steps: Normalize input feature and apply linear transormation\n",
    "\n",
    "#Taking all Horsepower features\n",
    "horsepower = np.array(train_features['Horsepower'])\n",
    "\n",
    "#Normalize data\n",
    "horsepower_normalizer = layers.Normalization(input_shape=[1,], axis=None)\n",
    "horsepower_normalizer.adapt(horsepower)\n"
   ]
  },
  {
   "cell_type": "markdown",
   "metadata": {},
   "source": [
    "- Apply a linear transformation (y=mx+b) to produce 1 output using a linear layer (tf.keras.layers.Dense)"
   ]
  },
  {
   "cell_type": "code",
   "execution_count": 24,
   "metadata": {},
   "outputs": [
    {
     "name": "stdout",
     "output_type": "stream",
     "text": [
      "Model: \"sequential\"\n",
      "_________________________________________________________________\n",
      " Layer (type)                Output Shape              Param #   \n",
      "=================================================================\n",
      " normalization_3 (Normalizat  (None, 1)                3         \n",
      " ion)                                                            \n",
      "                                                                 \n",
      " dense (Dense)               (None, 1)                 2         \n",
      "                                                                 \n",
      "=================================================================\n",
      "Total params: 5\n",
      "Trainable params: 2\n",
      "Non-trainable params: 3\n",
      "_________________________________________________________________\n"
     ]
    }
   ],
   "source": [
    "#Build the keras Sequential model\n",
    "\n",
    "horsepower_model = tf.keras.Sequential([\n",
    "    horsepower_normalizer,\n",
    "    layers.Dense(units=1)\n",
    "])\n",
    "\n",
    "horsepower_model.summary()"
   ]
  },
  {
   "cell_type": "code",
   "execution_count": 26,
   "metadata": {},
   "outputs": [],
   "source": [
    "#Compile Model\n",
    "horsepower_model.compile(\n",
    "    optimizer = tf.optimizers.Adam(learning_rate=0.1),\n",
    "    loss = 'mean_absolute_error'\n",
    ")"
   ]
  },
  {
   "cell_type": "code",
   "execution_count": 27,
   "metadata": {},
   "outputs": [
    {
     "name": "stdout",
     "output_type": "stream",
     "text": [
      "Epoch 1/100\n",
      "8/8 - 3s - loss: 22.8674 - val_loss: 22.9310 - 3s/epoch - 351ms/step\n",
      "Epoch 2/100\n",
      "8/8 - 0s - loss: 22.0624 - val_loss: 22.1310 - 105ms/epoch - 13ms/step\n",
      "Epoch 3/100\n",
      "8/8 - 0s - loss: 21.2630 - val_loss: 21.3310 - 100ms/epoch - 12ms/step\n",
      "Epoch 4/100\n",
      "8/8 - 0s - loss: 20.4631 - val_loss: 20.5310 - 96ms/epoch - 12ms/step\n",
      "Epoch 5/100\n",
      "8/8 - 0s - loss: 19.6673 - val_loss: 19.7313 - 85ms/epoch - 11ms/step\n",
      "Epoch 6/100\n",
      "8/8 - 0s - loss: 18.8640 - val_loss: 18.9311 - 89ms/epoch - 11ms/step\n",
      "Epoch 7/100\n",
      "8/8 - 0s - loss: 18.0639 - val_loss: 18.1314 - 78ms/epoch - 10ms/step\n",
      "Epoch 8/100\n",
      "8/8 - 0s - loss: 17.2640 - val_loss: 17.3313 - 80ms/epoch - 10ms/step\n",
      "Epoch 9/100\n",
      "8/8 - 0s - loss: 16.4629 - val_loss: 16.5312 - 81ms/epoch - 10ms/step\n",
      "Epoch 10/100\n",
      "8/8 - 0s - loss: 15.6644 - val_loss: 15.7314 - 96ms/epoch - 12ms/step\n",
      "Epoch 11/100\n",
      "8/8 - 0s - loss: 14.8655 - val_loss: 14.9314 - 73ms/epoch - 9ms/step\n",
      "Epoch 12/100\n",
      "8/8 - 0s - loss: 14.0625 - val_loss: 14.1314 - 77ms/epoch - 10ms/step\n",
      "Epoch 13/100\n",
      "8/8 - 0s - loss: 13.2647 - val_loss: 13.3311 - 82ms/epoch - 10ms/step\n",
      "Epoch 14/100\n",
      "8/8 - 0s - loss: 12.4652 - val_loss: 12.5313 - 92ms/epoch - 11ms/step\n",
      "Epoch 15/100\n",
      "8/8 - 0s - loss: 11.6623 - val_loss: 11.7312 - 85ms/epoch - 11ms/step\n",
      "Epoch 16/100\n",
      "8/8 - 0s - loss: 10.8652 - val_loss: 10.9311 - 90ms/epoch - 11ms/step\n",
      "Epoch 17/100\n",
      "8/8 - 0s - loss: 10.0718 - val_loss: 10.1322 - 69ms/epoch - 9ms/step\n",
      "Epoch 18/100\n",
      "8/8 - 0s - loss: 9.2867 - val_loss: 9.3606 - 68ms/epoch - 8ms/step\n",
      "Epoch 19/100\n",
      "8/8 - 0s - loss: 8.5560 - val_loss: 8.6099 - 72ms/epoch - 9ms/step\n",
      "Epoch 20/100\n",
      "8/8 - 0s - loss: 7.8457 - val_loss: 7.8908 - 76ms/epoch - 9ms/step\n",
      "Epoch 21/100\n",
      "8/8 - 0s - loss: 7.1904 - val_loss: 7.1910 - 71ms/epoch - 9ms/step\n",
      "Epoch 22/100\n",
      "8/8 - 0s - loss: 6.5583 - val_loss: 6.5593 - 74ms/epoch - 9ms/step\n",
      "Epoch 23/100\n",
      "8/8 - 0s - loss: 5.9792 - val_loss: 5.9943 - 78ms/epoch - 10ms/step\n",
      "Epoch 24/100\n",
      "8/8 - 0s - loss: 5.4603 - val_loss: 5.5746 - 78ms/epoch - 10ms/step\n",
      "Epoch 25/100\n",
      "8/8 - 0s - loss: 5.0855 - val_loss: 5.2365 - 79ms/epoch - 10ms/step\n",
      "Epoch 26/100\n",
      "8/8 - 0s - loss: 4.7412 - val_loss: 5.0050 - 78ms/epoch - 10ms/step\n",
      "Epoch 27/100\n",
      "8/8 - 0s - loss: 4.5011 - val_loss: 4.8293 - 72ms/epoch - 9ms/step\n",
      "Epoch 28/100\n",
      "8/8 - 0s - loss: 4.2892 - val_loss: 4.6562 - 75ms/epoch - 9ms/step\n",
      "Epoch 29/100\n",
      "8/8 - 0s - loss: 4.1420 - val_loss: 4.5388 - 80ms/epoch - 10ms/step\n",
      "Epoch 30/100\n",
      "8/8 - 0s - loss: 4.0294 - val_loss: 4.4514 - 87ms/epoch - 11ms/step\n",
      "Epoch 31/100\n",
      "8/8 - 0s - loss: 3.9622 - val_loss: 4.3863 - 68ms/epoch - 8ms/step\n",
      "Epoch 32/100\n",
      "8/8 - 0s - loss: 3.9026 - val_loss: 4.3337 - 82ms/epoch - 10ms/step\n",
      "Epoch 33/100\n",
      "8/8 - 0s - loss: 3.8672 - val_loss: 4.2722 - 81ms/epoch - 10ms/step\n",
      "Epoch 34/100\n",
      "8/8 - 0s - loss: 3.8417 - val_loss: 4.2536 - 74ms/epoch - 9ms/step\n",
      "Epoch 35/100\n",
      "8/8 - 0s - loss: 3.8322 - val_loss: 4.2280 - 73ms/epoch - 9ms/step\n",
      "Epoch 36/100\n",
      "8/8 - 0s - loss: 3.8271 - val_loss: 4.2392 - 71ms/epoch - 9ms/step\n",
      "Epoch 37/100\n",
      "8/8 - 0s - loss: 3.8181 - val_loss: 4.2025 - 76ms/epoch - 9ms/step\n",
      "Epoch 38/100\n",
      "8/8 - 0s - loss: 3.8103 - val_loss: 4.2075 - 77ms/epoch - 10ms/step\n",
      "Epoch 39/100\n",
      "8/8 - 0s - loss: 3.8072 - val_loss: 4.2119 - 73ms/epoch - 9ms/step\n",
      "Epoch 40/100\n",
      "8/8 - 0s - loss: 3.8045 - val_loss: 4.2056 - 86ms/epoch - 11ms/step\n",
      "Epoch 41/100\n",
      "8/8 - 0s - loss: 3.8063 - val_loss: 4.2025 - 71ms/epoch - 9ms/step\n",
      "Epoch 42/100\n",
      "8/8 - 0s - loss: 3.8054 - val_loss: 4.2046 - 71ms/epoch - 9ms/step\n",
      "Epoch 43/100\n",
      "8/8 - 0s - loss: 3.8036 - val_loss: 4.1849 - 74ms/epoch - 9ms/step\n",
      "Epoch 44/100\n",
      "8/8 - 0s - loss: 3.8061 - val_loss: 4.2005 - 79ms/epoch - 10ms/step\n",
      "Epoch 45/100\n",
      "8/8 - 0s - loss: 3.8034 - val_loss: 4.1790 - 70ms/epoch - 9ms/step\n",
      "Epoch 46/100\n",
      "8/8 - 0s - loss: 3.8047 - val_loss: 4.1863 - 75ms/epoch - 9ms/step\n",
      "Epoch 47/100\n",
      "8/8 - 0s - loss: 3.8046 - val_loss: 4.2006 - 74ms/epoch - 9ms/step\n",
      "Epoch 48/100\n",
      "8/8 - 0s - loss: 3.8028 - val_loss: 4.1911 - 71ms/epoch - 9ms/step\n",
      "Epoch 49/100\n",
      "8/8 - 0s - loss: 3.8023 - val_loss: 4.1973 - 74ms/epoch - 9ms/step\n",
      "Epoch 50/100\n",
      "8/8 - 0s - loss: 3.8022 - val_loss: 4.1885 - 72ms/epoch - 9ms/step\n",
      "Epoch 51/100\n",
      "8/8 - 0s - loss: 3.8027 - val_loss: 4.1934 - 73ms/epoch - 9ms/step\n",
      "Epoch 52/100\n",
      "8/8 - 0s - loss: 3.8078 - val_loss: 4.1866 - 75ms/epoch - 9ms/step\n",
      "Epoch 53/100\n",
      "8/8 - 0s - loss: 3.8032 - val_loss: 4.1970 - 74ms/epoch - 9ms/step\n",
      "Epoch 54/100\n",
      "8/8 - 0s - loss: 3.8058 - val_loss: 4.2151 - 80ms/epoch - 10ms/step\n",
      "Epoch 55/100\n",
      "8/8 - 0s - loss: 3.8036 - val_loss: 4.1927 - 78ms/epoch - 10ms/step\n",
      "Epoch 56/100\n",
      "8/8 - 0s - loss: 3.8015 - val_loss: 4.1845 - 75ms/epoch - 9ms/step\n",
      "Epoch 57/100\n",
      "8/8 - 0s - loss: 3.8032 - val_loss: 4.1946 - 77ms/epoch - 10ms/step\n",
      "Epoch 58/100\n",
      "8/8 - 0s - loss: 3.8022 - val_loss: 4.1818 - 72ms/epoch - 9ms/step\n",
      "Epoch 59/100\n",
      "8/8 - 0s - loss: 3.8024 - val_loss: 4.1823 - 74ms/epoch - 9ms/step\n",
      "Epoch 60/100\n",
      "8/8 - 0s - loss: 3.8034 - val_loss: 4.1981 - 68ms/epoch - 8ms/step\n",
      "Epoch 61/100\n",
      "8/8 - 0s - loss: 3.8047 - val_loss: 4.2062 - 89ms/epoch - 11ms/step\n",
      "Epoch 62/100\n",
      "8/8 - 0s - loss: 3.8050 - val_loss: 4.1695 - 97ms/epoch - 12ms/step\n",
      "Epoch 63/100\n",
      "8/8 - 0s - loss: 3.8045 - val_loss: 4.1726 - 84ms/epoch - 10ms/step\n",
      "Epoch 64/100\n",
      "8/8 - 0s - loss: 3.8055 - val_loss: 4.1941 - 96ms/epoch - 12ms/step\n",
      "Epoch 65/100\n",
      "8/8 - 0s - loss: 3.8052 - val_loss: 4.1844 - 68ms/epoch - 8ms/step\n",
      "Epoch 66/100\n",
      "8/8 - 0s - loss: 3.8035 - val_loss: 4.1942 - 74ms/epoch - 9ms/step\n",
      "Epoch 67/100\n",
      "8/8 - 0s - loss: 3.8022 - val_loss: 4.1974 - 68ms/epoch - 8ms/step\n",
      "Epoch 68/100\n",
      "8/8 - 0s - loss: 3.8030 - val_loss: 4.1960 - 72ms/epoch - 9ms/step\n",
      "Epoch 69/100\n",
      "8/8 - 0s - loss: 3.8017 - val_loss: 4.1853 - 71ms/epoch - 9ms/step\n",
      "Epoch 70/100\n",
      "8/8 - 0s - loss: 3.8024 - val_loss: 4.1899 - 87ms/epoch - 11ms/step\n",
      "Epoch 71/100\n",
      "8/8 - 0s - loss: 3.8035 - val_loss: 4.1830 - 97ms/epoch - 12ms/step\n",
      "Epoch 72/100\n",
      "8/8 - 0s - loss: 3.8032 - val_loss: 4.1887 - 74ms/epoch - 9ms/step\n",
      "Epoch 73/100\n",
      "8/8 - 0s - loss: 3.8080 - val_loss: 4.2164 - 69ms/epoch - 9ms/step\n",
      "Epoch 74/100\n",
      "8/8 - 0s - loss: 3.8032 - val_loss: 4.1853 - 75ms/epoch - 9ms/step\n",
      "Epoch 75/100\n",
      "8/8 - 0s - loss: 3.8092 - val_loss: 4.1530 - 73ms/epoch - 9ms/step\n",
      "Epoch 76/100\n",
      "8/8 - 0s - loss: 3.8062 - val_loss: 4.1573 - 83ms/epoch - 10ms/step\n",
      "Epoch 77/100\n",
      "8/8 - 0s - loss: 3.8039 - val_loss: 4.1849 - 71ms/epoch - 9ms/step\n",
      "Epoch 78/100\n",
      "8/8 - 0s - loss: 3.8027 - val_loss: 4.1980 - 75ms/epoch - 9ms/step\n",
      "Epoch 79/100\n",
      "8/8 - 0s - loss: 3.8038 - val_loss: 4.1803 - 76ms/epoch - 9ms/step\n",
      "Epoch 80/100\n",
      "8/8 - 0s - loss: 3.8062 - val_loss: 4.1992 - 74ms/epoch - 9ms/step\n",
      "Epoch 81/100\n",
      "8/8 - 0s - loss: 3.8054 - val_loss: 4.1788 - 73ms/epoch - 9ms/step\n",
      "Epoch 82/100\n",
      "8/8 - 0s - loss: 3.8028 - val_loss: 4.1826 - 72ms/epoch - 9ms/step\n",
      "Epoch 83/100\n",
      "8/8 - 0s - loss: 3.8067 - val_loss: 4.2086 - 78ms/epoch - 10ms/step\n",
      "Epoch 84/100\n",
      "8/8 - 0s - loss: 3.8031 - val_loss: 4.1939 - 71ms/epoch - 9ms/step\n",
      "Epoch 85/100\n",
      "8/8 - 0s - loss: 3.8023 - val_loss: 4.1877 - 81ms/epoch - 10ms/step\n",
      "Epoch 86/100\n",
      "8/8 - 0s - loss: 3.8025 - val_loss: 4.1810 - 74ms/epoch - 9ms/step\n",
      "Epoch 87/100\n",
      "8/8 - 0s - loss: 3.8097 - val_loss: 4.1762 - 78ms/epoch - 10ms/step\n",
      "Epoch 88/100\n",
      "8/8 - 0s - loss: 3.8034 - val_loss: 4.1901 - 84ms/epoch - 10ms/step\n",
      "Epoch 89/100\n",
      "8/8 - 0s - loss: 3.8044 - val_loss: 4.2142 - 72ms/epoch - 9ms/step\n",
      "Epoch 90/100\n",
      "8/8 - 0s - loss: 3.8035 - val_loss: 4.2048 - 75ms/epoch - 9ms/step\n",
      "Epoch 91/100\n",
      "8/8 - 0s - loss: 3.8034 - val_loss: 4.1774 - 71ms/epoch - 9ms/step\n",
      "Epoch 92/100\n",
      "8/8 - 0s - loss: 3.8036 - val_loss: 4.1774 - 75ms/epoch - 9ms/step\n",
      "Epoch 93/100\n",
      "8/8 - 0s - loss: 3.8070 - val_loss: 4.1753 - 74ms/epoch - 9ms/step\n",
      "Epoch 94/100\n",
      "8/8 - 0s - loss: 3.8013 - val_loss: 4.1967 - 71ms/epoch - 9ms/step\n",
      "Epoch 95/100\n",
      "8/8 - 0s - loss: 3.8031 - val_loss: 4.1968 - 78ms/epoch - 10ms/step\n",
      "Epoch 96/100\n",
      "8/8 - 0s - loss: 3.8029 - val_loss: 4.1838 - 75ms/epoch - 9ms/step\n",
      "Epoch 97/100\n",
      "8/8 - 0s - loss: 3.8056 - val_loss: 4.1773 - 72ms/epoch - 9ms/step\n",
      "Epoch 98/100\n",
      "8/8 - 0s - loss: 3.8029 - val_loss: 4.2023 - 76ms/epoch - 9ms/step\n",
      "Epoch 99/100\n",
      "8/8 - 0s - loss: 3.8068 - val_loss: 4.1983 - 81ms/epoch - 10ms/step\n",
      "Epoch 100/100\n",
      "8/8 - 0s - loss: 3.8042 - val_loss: 4.1757 - 75ms/epoch - 9ms/step\n"
     ]
    }
   ],
   "source": [
    "history = horsepower_model.fit(\n",
    "    train_features['Horsepower'],\n",
    "    train_labels,\n",
    "    epochs=100,\n",
    "    verbose=2,\n",
    "    validation_split = 0.2)"
   ]
  },
  {
   "cell_type": "code",
   "execution_count": 32,
   "metadata": {},
   "outputs": [
    {
     "data": {
      "text/html": [
       "<div>\n",
       "<style scoped>\n",
       "    .dataframe tbody tr th:only-of-type {\n",
       "        vertical-align: middle;\n",
       "    }\n",
       "\n",
       "    .dataframe tbody tr th {\n",
       "        vertical-align: top;\n",
       "    }\n",
       "\n",
       "    .dataframe thead th {\n",
       "        text-align: right;\n",
       "    }\n",
       "</style>\n",
       "<table border=\"1\" class=\"dataframe\">\n",
       "  <thead>\n",
       "    <tr style=\"text-align: right;\">\n",
       "      <th></th>\n",
       "      <th>loss</th>\n",
       "      <th>val_loss</th>\n",
       "      <th>epoch</th>\n",
       "    </tr>\n",
       "  </thead>\n",
       "  <tbody>\n",
       "    <tr>\n",
       "      <th>95</th>\n",
       "      <td>3.802888</td>\n",
       "      <td>4.183835</td>\n",
       "      <td>95</td>\n",
       "    </tr>\n",
       "    <tr>\n",
       "      <th>96</th>\n",
       "      <td>3.805556</td>\n",
       "      <td>4.177346</td>\n",
       "      <td>96</td>\n",
       "    </tr>\n",
       "    <tr>\n",
       "      <th>97</th>\n",
       "      <td>3.802909</td>\n",
       "      <td>4.202287</td>\n",
       "      <td>97</td>\n",
       "    </tr>\n",
       "    <tr>\n",
       "      <th>98</th>\n",
       "      <td>3.806844</td>\n",
       "      <td>4.198290</td>\n",
       "      <td>98</td>\n",
       "    </tr>\n",
       "    <tr>\n",
       "      <th>99</th>\n",
       "      <td>3.804211</td>\n",
       "      <td>4.175700</td>\n",
       "      <td>99</td>\n",
       "    </tr>\n",
       "  </tbody>\n",
       "</table>\n",
       "</div>"
      ],
      "text/plain": [
       "        loss  val_loss  epoch\n",
       "95  3.802888  4.183835     95\n",
       "96  3.805556  4.177346     96\n",
       "97  3.802909  4.202287     97\n",
       "98  3.806844  4.198290     98\n",
       "99  3.804211  4.175700     99"
      ]
     },
     "execution_count": 32,
     "metadata": {},
     "output_type": "execute_result"
    }
   ],
   "source": [
    "hist = pd.DataFrame(history.history)\n",
    "hist['epoch'] = history.epoch\n",
    "hist.tail()"
   ]
  },
  {
   "cell_type": "code",
   "execution_count": 34,
   "metadata": {},
   "outputs": [
    {
     "data": {
      "image/png": "[encoded data removed]",
      "text/plain": [
       "<Figure size 432x288 with 1 Axes>"
      ]
     },
     "metadata": {
      "needs_background": "light"
     },
     "output_type": "display_data"
    }
   ],
   "source": [
    "#Plot history loss\n",
    "def plot_loss(history):\n",
    "  plt.plot(history.history['loss'], label='loss')\n",
    "  plt.plot(history.history['val_loss'], label='val_loss')\n",
    "  plt.ylim([0, 10])\n",
    "  plt.xlabel('Epoch')\n",
    "  plt.ylabel('Error [MPG]')\n",
    "  plt.legend()\n",
    "  plt.grid(True)\n",
    "\n",
    "plot_loss(history)\n"
   ]
  },
  {
   "cell_type": "code",
   "execution_count": 35,
   "metadata": {},
   "outputs": [
    {
     "name": "stdout",
     "output_type": "stream",
     "text": [
      "3/3 - 0s - loss: 3.6502 - 35ms/epoch - 12ms/step\n"
     ]
    }
   ],
   "source": [
    "# Collect the results on the test set\n",
    "test_results = {}\n",
    "\n",
    "test_results['horsepower_model'] = horsepower_model.evaluate(\n",
    "    test_features['Horsepower'],\n",
    "    test_labels, verbose=2\n",
    ")"
   ]
  },
  {
   "cell_type": "code",
   "execution_count": 38,
   "metadata": {},
   "outputs": [],
   "source": [
    "x = tf.linspace(0.0, 250, 251)\n",
    "y = horsepower_model.predict(x)"
   ]
  },
  {
   "cell_type": "code",
   "execution_count": 40,
   "metadata": {},
   "outputs": [
    {
     "data": {
      "image/png": "[encoded data removed]",
      "text/plain": [
       "<Figure size 432x288 with 1 Axes>"
      ]
     },
     "metadata": {
      "needs_background": "light"
     },
     "output_type": "display_data"
    }
   ],
   "source": [
    "def plot_horsepower(x,y):\n",
    "    plt.scatter(train_features['Horsepower'], train_labels, label='Data')\n",
    "    plt.plot(x, y, color='k', label='Predictions')\n",
    "    plt.xlabel('Horsepower')\n",
    "    plt.ylabel('MPG')\n",
    "    plt.legend()\n",
    "\n",
    "plot_horsepower(x,y)"
   ]
  },
  {
   "cell_type": "markdown",
   "metadata": {},
   "source": [
    "# Regression with a deep neural network\n",
    "\n",
    "- Single-input DNN\n",
    "- Multiple-input DNN\n",
    "\n",
    "- Layers to consider:\n",
    "- Normalization layers (horsepower_normalizer)\n",
    "- Two hidden, non-linear, Dense layer with ReLU activation\n",
    "- a linear *Dense* single-output layer"
   ]
  },
  {
   "cell_type": "code",
   "execution_count": 41,
   "metadata": {},
   "outputs": [],
   "source": [
    "def build_and_compile_model(norm):\n",
    "    model = keras.Sequential([\n",
    "        norm,\n",
    "        layers.Dense(64, activation='relu'),\n",
    "        layers.Dense(64, activation='relu'),\n",
    "        layers.Dense(1)\n",
    "    ])\n",
    "    model.compile(loss='mean_absolute_error',\n",
    "            optimizer=tf.keras.optimizers.Adam(0.001)\n",
    "    )\n",
    "    return model"
   ]
  },
  {
   "cell_type": "markdown",
   "metadata": {},
   "source": [
    "#### Regression using a DNN and a single input\n",
    "- 'Horsepower' as input\n",
    "- horsepower_normalizer as normalization layer"
   ]
  },
  {
   "cell_type": "code",
   "execution_count": 42,
   "metadata": {},
   "outputs": [
    {
     "name": "stdout",
     "output_type": "stream",
     "text": [
      "Model: \"sequential_1\"\n",
      "_________________________________________________________________\n",
      " Layer (type)                Output Shape              Param #   \n",
      "=================================================================\n",
      " normalization_3 (Normalizat  (None, 1)                3         \n",
      " ion)                                                            \n",
      "                                                                 \n",
      " dense_1 (Dense)             (None, 64)                128       \n",
      "                                                                 \n",
      " dense_2 (Dense)             (None, 64)                4160      \n",
      "                                                                 \n",
      " dense_3 (Dense)             (None, 1)                 65        \n",
      "                                                                 \n",
      "=================================================================\n",
      "Total params: 4,356\n",
      "Trainable params: 4,353\n",
      "Non-trainable params: 3\n",
      "_________________________________________________________________\n"
     ]
    }
   ],
   "source": [
    "dnn_horsepower_model = build_and_compile_model(horsepower_normalizer)\n",
    "dnn_horsepower_model.summary()"
   ]
  },
  {
   "cell_type": "code",
   "execution_count": 43,
   "metadata": {},
   "outputs": [
    {
     "name": "stdout",
     "output_type": "stream",
     "text": [
      "Epoch 1/100\n",
      "8/8 [==============================] - 1s 31ms/step - loss: 23.1164 - val_loss: 23.5007\n",
      "Epoch 2/100\n",
      "8/8 [==============================] - 0s 13ms/step - loss: 22.8872 - val_loss: 23.2552\n",
      "Epoch 3/100\n",
      "8/8 [==============================] - 0s 17ms/step - loss: 22.6456 - val_loss: 22.9776\n",
      "Epoch 4/100\n",
      "8/8 [==============================] - 0s 16ms/step - loss: 22.3586 - val_loss: 22.6282\n",
      "Epoch 5/100\n",
      "8/8 [==============================] - 0s 17ms/step - loss: 21.9799 - val_loss: 22.1628\n",
      "Epoch 6/100\n",
      "8/8 [==============================] - 0s 14ms/step - loss: 21.4783 - val_loss: 21.5356\n",
      "Epoch 7/100\n",
      "8/8 [==============================] - 0s 17ms/step - loss: 20.7965 - val_loss: 20.6963\n",
      "Epoch 8/100\n",
      "8/8 [==============================] - 0s 15ms/step - loss: 19.8911 - val_loss: 19.5964\n",
      "Epoch 9/100\n",
      "8/8 [==============================] - 0s 16ms/step - loss: 18.7165 - val_loss: 18.1987\n",
      "Epoch 10/100\n",
      "8/8 [==============================] - 0s 15ms/step - loss: 17.2309 - val_loss: 16.4854\n",
      "Epoch 11/100\n",
      "8/8 [==============================] - 0s 17ms/step - loss: 15.4567 - val_loss: 14.5098\n",
      "Epoch 12/100\n",
      "8/8 [==============================] - 0s 15ms/step - loss: 13.5163 - val_loss: 12.4627\n",
      "Epoch 13/100\n",
      "8/8 [==============================] - 0s 16ms/step - loss: 11.3327 - val_loss: 10.2853\n",
      "Epoch 14/100\n",
      "8/8 [==============================] - 0s 13ms/step - loss: 8.9466 - val_loss: 8.2907\n",
      "Epoch 15/100\n",
      "8/8 [==============================] - 0s 14ms/step - loss: 6.5497 - val_loss: 6.3102\n",
      "Epoch 16/100\n",
      "8/8 [==============================] - 0s 12ms/step - loss: 4.6939 - val_loss: 5.4566\n",
      "Epoch 17/100\n",
      "8/8 [==============================] - 0s 10ms/step - loss: 4.2646 - val_loss: 5.5159\n",
      "Epoch 18/100\n",
      "8/8 [==============================] - 0s 12ms/step - loss: 4.3158 - val_loss: 5.3845\n",
      "Epoch 19/100\n",
      "8/8 [==============================] - 0s 13ms/step - loss: 4.0936 - val_loss: 5.0985\n",
      "Epoch 20/100\n",
      "8/8 [==============================] - 0s 10ms/step - loss: 3.9894 - val_loss: 4.9443\n",
      "Epoch 21/100\n",
      "8/8 [==============================] - 0s 11ms/step - loss: 3.9616 - val_loss: 4.8692\n",
      "Epoch 22/100\n",
      "8/8 [==============================] - 0s 11ms/step - loss: 3.8976 - val_loss: 4.8317\n",
      "Epoch 23/100\n",
      "8/8 [==============================] - 0s 11ms/step - loss: 3.8407 - val_loss: 4.7859\n",
      "Epoch 24/100\n",
      "8/8 [==============================] - 0s 12ms/step - loss: 3.8055 - val_loss: 4.7097\n",
      "Epoch 25/100\n",
      "8/8 [==============================] - 0s 12ms/step - loss: 3.7582 - val_loss: 4.6192\n",
      "Epoch 26/100\n",
      "8/8 [==============================] - 0s 10ms/step - loss: 3.7251 - val_loss: 4.5595\n",
      "Epoch 27/100\n",
      "8/8 [==============================] - 0s 11ms/step - loss: 3.6921 - val_loss: 4.5142\n",
      "Epoch 28/100\n",
      "8/8 [==============================] - 0s 12ms/step - loss: 3.6594 - val_loss: 4.4704\n",
      "Epoch 29/100\n",
      "8/8 [==============================] - 0s 13ms/step - loss: 3.6376 - val_loss: 4.4100\n",
      "Epoch 30/100\n",
      "8/8 [==============================] - 0s 15ms/step - loss: 3.6114 - val_loss: 4.3657\n",
      "Epoch 31/100\n",
      "8/8 [==============================] - 0s 14ms/step - loss: 3.5834 - val_loss: 4.3374\n",
      "Epoch 32/100\n",
      "8/8 [==============================] - 0s 15ms/step - loss: 3.5715 - val_loss: 4.2965\n",
      "Epoch 33/100\n",
      "8/8 [==============================] - 0s 15ms/step - loss: 3.5581 - val_loss: 4.2613\n",
      "Epoch 34/100\n",
      "8/8 [==============================] - 0s 10ms/step - loss: 3.5356 - val_loss: 4.2392\n",
      "Epoch 35/100\n",
      "8/8 [==============================] - 0s 11ms/step - loss: 3.5246 - val_loss: 4.2021\n",
      "Epoch 36/100\n",
      "8/8 [==============================] - 0s 15ms/step - loss: 3.4995 - val_loss: 4.1759\n",
      "Epoch 37/100\n",
      "8/8 [==============================] - 0s 12ms/step - loss: 3.4910 - val_loss: 4.1518\n",
      "Epoch 38/100\n",
      "8/8 [==============================] - 0s 12ms/step - loss: 3.4790 - val_loss: 4.1319\n",
      "Epoch 39/100\n",
      "8/8 [==============================] - 0s 11ms/step - loss: 3.4704 - val_loss: 4.1163\n",
      "Epoch 40/100\n",
      "8/8 [==============================] - 0s 10ms/step - loss: 3.4624 - val_loss: 4.1055\n",
      "Epoch 41/100\n",
      "8/8 [==============================] - 0s 10ms/step - loss: 3.4445 - val_loss: 4.0835\n",
      "Epoch 42/100\n",
      "8/8 [==============================] - 0s 10ms/step - loss: 3.4355 - val_loss: 4.0737\n",
      "Epoch 43/100\n",
      "8/8 [==============================] - 0s 11ms/step - loss: 3.4266 - val_loss: 4.0586\n",
      "Epoch 44/100\n",
      "8/8 [==============================] - 0s 12ms/step - loss: 3.4168 - val_loss: 4.0381\n",
      "Epoch 45/100\n",
      "8/8 [==============================] - 0s 15ms/step - loss: 3.4035 - val_loss: 4.0283\n",
      "Epoch 46/100\n",
      "8/8 [==============================] - 0s 14ms/step - loss: 3.4020 - val_loss: 4.0178\n",
      "Epoch 47/100\n",
      "8/8 [==============================] - 0s 11ms/step - loss: 3.3904 - val_loss: 3.9983\n",
      "Epoch 48/100\n",
      "8/8 [==============================] - 0s 10ms/step - loss: 3.3830 - val_loss: 3.9838\n",
      "Epoch 49/100\n",
      "8/8 [==============================] - 0s 11ms/step - loss: 3.3759 - val_loss: 3.9705\n",
      "Epoch 50/100\n",
      "8/8 [==============================] - 0s 10ms/step - loss: 3.3738 - val_loss: 3.9598\n",
      "Epoch 51/100\n",
      "8/8 [==============================] - 0s 9ms/step - loss: 3.3599 - val_loss: 3.9467\n",
      "Epoch 52/100\n",
      "8/8 [==============================] - 0s 9ms/step - loss: 3.3559 - val_loss: 3.9354\n",
      "Epoch 53/100\n",
      "8/8 [==============================] - 0s 10ms/step - loss: 3.3492 - val_loss: 3.9201\n",
      "Epoch 54/100\n",
      "8/8 [==============================] - 0s 10ms/step - loss: 3.3411 - val_loss: 3.9102\n",
      "Epoch 55/100\n",
      "8/8 [==============================] - 0s 10ms/step - loss: 3.3360 - val_loss: 3.8996\n",
      "Epoch 56/100\n",
      "8/8 [==============================] - 0s 9ms/step - loss: 3.3325 - val_loss: 3.8917\n",
      "Epoch 57/100\n",
      "8/8 [==============================] - 0s 10ms/step - loss: 3.3263 - val_loss: 3.8735\n",
      "Epoch 58/100\n",
      "8/8 [==============================] - 0s 11ms/step - loss: 3.3297 - val_loss: 3.8656\n",
      "Epoch 59/100\n",
      "8/8 [==============================] - 0s 10ms/step - loss: 3.3170 - val_loss: 3.8607\n",
      "Epoch 60/100\n",
      "8/8 [==============================] - 0s 10ms/step - loss: 3.3176 - val_loss: 3.8486\n",
      "Epoch 61/100\n",
      "8/8 [==============================] - 0s 11ms/step - loss: 3.3126 - val_loss: 3.8362\n",
      "Epoch 62/100\n",
      "8/8 [==============================] - 0s 9ms/step - loss: 3.3055 - val_loss: 3.8248\n",
      "Epoch 63/100\n",
      "8/8 [==============================] - 0s 10ms/step - loss: 3.3007 - val_loss: 3.8177\n",
      "Epoch 64/100\n",
      "8/8 [==============================] - 0s 10ms/step - loss: 3.2964 - val_loss: 3.8105\n",
      "Epoch 65/100\n",
      "8/8 [==============================] - 0s 10ms/step - loss: 3.2956 - val_loss: 3.8080\n",
      "Epoch 66/100\n",
      "8/8 [==============================] - 0s 14ms/step - loss: 3.2947 - val_loss: 3.7996\n",
      "Epoch 67/100\n",
      "8/8 [==============================] - 0s 10ms/step - loss: 3.2937 - val_loss: 3.8026\n",
      "Epoch 68/100\n",
      "8/8 [==============================] - 0s 9ms/step - loss: 3.2857 - val_loss: 3.7907\n",
      "Epoch 69/100\n",
      "8/8 [==============================] - 0s 9ms/step - loss: 3.2825 - val_loss: 3.7928\n",
      "Epoch 70/100\n",
      "8/8 [==============================] - 0s 10ms/step - loss: 3.2862 - val_loss: 3.7972\n",
      "Epoch 71/100\n",
      "8/8 [==============================] - 0s 10ms/step - loss: 3.2845 - val_loss: 3.7916\n",
      "Epoch 72/100\n",
      "8/8 [==============================] - 0s 10ms/step - loss: 3.2847 - val_loss: 3.8033\n",
      "Epoch 73/100\n",
      "8/8 [==============================] - 0s 9ms/step - loss: 3.2792 - val_loss: 3.7829\n",
      "Epoch 74/100\n",
      "8/8 [==============================] - 0s 11ms/step - loss: 3.2787 - val_loss: 3.7880\n",
      "Epoch 75/100\n",
      "8/8 [==============================] - 0s 10ms/step - loss: 3.2768 - val_loss: 3.7922\n",
      "Epoch 76/100\n",
      "8/8 [==============================] - 0s 10ms/step - loss: 3.3048 - val_loss: 3.8252\n",
      "Epoch 77/100\n",
      "8/8 [==============================] - 0s 10ms/step - loss: 3.2871 - val_loss: 3.7771\n",
      "Epoch 78/100\n",
      "8/8 [==============================] - 0s 9ms/step - loss: 3.2755 - val_loss: 3.7772\n",
      "Epoch 79/100\n",
      "8/8 [==============================] - 0s 9ms/step - loss: 3.2696 - val_loss: 3.7937\n",
      "Epoch 80/100\n",
      "8/8 [==============================] - 0s 11ms/step - loss: 3.2735 - val_loss: 3.7914\n",
      "Epoch 81/100\n",
      "8/8 [==============================] - 0s 10ms/step - loss: 3.2715 - val_loss: 3.7964\n",
      "Epoch 82/100\n",
      "8/8 [==============================] - 0s 9ms/step - loss: 3.2715 - val_loss: 3.8023\n",
      "Epoch 83/100\n",
      "8/8 [==============================] - 0s 10ms/step - loss: 3.2704 - val_loss: 3.7908\n",
      "Epoch 84/100\n",
      "8/8 [==============================] - 0s 10ms/step - loss: 3.2960 - val_loss: 3.7905\n",
      "Epoch 85/100\n",
      "8/8 [==============================] - 0s 10ms/step - loss: 3.2764 - val_loss: 3.8171\n",
      "Epoch 86/100\n",
      "8/8 [==============================] - 0s 10ms/step - loss: 3.2715 - val_loss: 3.7975\n",
      "Epoch 87/100\n",
      "8/8 [==============================] - 0s 11ms/step - loss: 3.2696 - val_loss: 3.7812\n",
      "Epoch 88/100\n",
      "8/8 [==============================] - 0s 10ms/step - loss: 3.2644 - val_loss: 3.7855\n",
      "Epoch 89/100\n",
      "8/8 [==============================] - 0s 10ms/step - loss: 3.2728 - val_loss: 3.7996\n",
      "Epoch 90/100\n",
      "8/8 [==============================] - 0s 13ms/step - loss: 3.2655 - val_loss: 3.7861\n",
      "Epoch 91/100\n",
      "8/8 [==============================] - 0s 16ms/step - loss: 3.2649 - val_loss: 3.7950\n",
      "Epoch 92/100\n",
      "8/8 [==============================] - 0s 14ms/step - loss: 3.2720 - val_loss: 3.7884\n",
      "Epoch 93/100\n",
      "8/8 [==============================] - 0s 10ms/step - loss: 3.2616 - val_loss: 3.7940\n",
      "Epoch 94/100\n",
      "8/8 [==============================] - 0s 14ms/step - loss: 3.2589 - val_loss: 3.7856\n",
      "Epoch 95/100\n",
      "8/8 [==============================] - 0s 16ms/step - loss: 3.2676 - val_loss: 3.7821\n",
      "Epoch 96/100\n",
      "8/8 [==============================] - 0s 14ms/step - loss: 3.2615 - val_loss: 3.7918\n",
      "Epoch 97/100\n",
      "8/8 [==============================] - 0s 11ms/step - loss: 3.2604 - val_loss: 3.7828\n",
      "Epoch 98/100\n",
      "8/8 [==============================] - 0s 10ms/step - loss: 3.2584 - val_loss: 3.7772\n",
      "Epoch 99/100\n",
      "8/8 [==============================] - 0s 10ms/step - loss: 3.2623 - val_loss: 3.8076\n",
      "Epoch 100/100\n",
      "8/8 [==============================] - 0s 11ms/step - loss: 3.2589 - val_loss: 3.7804\n"
     ]
    }
   ],
   "source": [
    "history = dnn_horsepower_model.fit(\n",
    "    train_features['Horsepower'],\n",
    "    train_labels,\n",
    "    validation_split=0.2,\n",
    "    verbose=1,epochs=100\n",
    ")"
   ]
  },
  {
   "cell_type": "code",
   "execution_count": 44,
   "metadata": {},
   "outputs": [
    {
     "data": {
      "image/png": "[encoded data removed]",
      "text/plain": [
       "<Figure size 432x288 with 1 Axes>"
      ]
     },
     "metadata": {
      "needs_background": "light"
     },
     "output_type": "display_data"
    }
   ],
   "source": [
    "plot_loss(history)"
   ]
  },
  {
   "cell_type": "code",
   "execution_count": 45,
   "metadata": {},
   "outputs": [
    {
     "data": {
      "image/png": "[encoded data removed]",
      "text/plain": [
       "<Figure size 432x288 with 1 Axes>"
      ]
     },
     "metadata": {
      "needs_background": "light"
     },
     "output_type": "display_data"
    }
   ],
   "source": [
    "x = tf.linspace(0.0, 250, 251)\n",
    "y = dnn_horsepower_model.predict(x)\n",
    "\n",
    "plot_horsepower(x,y)"
   ]
  },
  {
   "cell_type": "code",
   "execution_count": 47,
   "metadata": {},
   "outputs": [],
   "source": [
    "# Collec the results on the test set for later\n",
    "test_results['dnn_horsepower_model'] = dnn_horsepower_model.evaluate(\n",
    "    test_features['Horsepower'], test_labels,\n",
    "    verbose=0)"
   ]
  },
  {
   "cell_type": "markdown",
   "metadata": {},
   "source": [
    "### Regression using a DNN and multiple inputs"
   ]
  },
  {
   "cell_type": "code",
   "execution_count": 49,
   "metadata": {},
   "outputs": [
    {
     "name": "stdout",
     "output_type": "stream",
     "text": [
      "Model: \"sequential_2\"\n",
      "_________________________________________________________________\n",
      " Layer (type)                Output Shape              Param #   \n",
      "=================================================================\n",
      " normalization (Normalizatio  (None, 9)                19        \n",
      " n)                                                              \n",
      "                                                                 \n",
      " dense_4 (Dense)             (None, 64)                640       \n",
      "                                                                 \n",
      " dense_5 (Dense)             (None, 64)                4160      \n",
      "                                                                 \n",
      " dense_6 (Dense)             (None, 1)                 65        \n",
      "                                                                 \n",
      "=================================================================\n",
      "Total params: 4,884\n",
      "Trainable params: 4,865\n",
      "Non-trainable params: 19\n",
      "_________________________________________________________________\n"
     ]
    }
   ],
   "source": [
    "dnn_model = build_and_compile_model(normalizer)\n",
    "dnn_model.summary()"
   ]
  },
  {
   "cell_type": "markdown",
   "metadata": {},
   "source": [
    "### Fit model"
   ]
  },
  {
   "cell_type": "code",
   "execution_count": 50,
   "metadata": {},
   "outputs": [
    {
     "name": "stdout",
     "output_type": "stream",
     "text": [
      "Epoch 1/100\n",
      "8/8 [==============================] - 1s 49ms/step - loss: 23.2826 - val_loss: 23.5022\n",
      "Epoch 2/100\n",
      "8/8 [==============================] - 0s 15ms/step - loss: 22.7575 - val_loss: 22.9688\n",
      "Epoch 3/100\n",
      "8/8 [==============================] - ETA: 0s - loss: 22.70 - 0s 18ms/step - loss: 22.2387 - val_loss: 22.3705\n",
      "Epoch 4/100\n",
      "8/8 [==============================] - 0s 23ms/step - loss: 21.6010 - val_loss: 21.5818\n",
      "Epoch 5/100\n",
      "8/8 [==============================] - 0s 17ms/step - loss: 20.7517 - val_loss: 20.5185\n",
      "Epoch 6/100\n",
      "8/8 [==============================] - 0s 17ms/step - loss: 19.6285 - val_loss: 19.0755\n",
      "Epoch 7/100\n",
      "8/8 [==============================] - 0s 16ms/step - loss: 18.0545 - val_loss: 17.1809\n",
      "Epoch 8/100\n",
      "8/8 [==============================] - 0s 13ms/step - loss: 16.0512 - val_loss: 14.6765\n",
      "Epoch 9/100\n",
      "8/8 [==============================] - 0s 13ms/step - loss: 13.5340 - val_loss: 11.8885\n",
      "Epoch 10/100\n",
      "8/8 [==============================] - 0s 14ms/step - loss: 10.7209 - val_loss: 9.1635\n",
      "Epoch 11/100\n",
      "8/8 [==============================] - 0s 12ms/step - loss: 7.9254 - val_loss: 6.7791\n",
      "Epoch 12/100\n",
      "8/8 [==============================] - 0s 13ms/step - loss: 6.0051 - val_loss: 5.7797\n",
      "Epoch 13/100\n",
      "8/8 [==============================] - 0s 13ms/step - loss: 5.3555 - val_loss: 5.2988\n",
      "Epoch 14/100\n",
      "8/8 [==============================] - 0s 12ms/step - loss: 4.6753 - val_loss: 4.5969\n",
      "Epoch 15/100\n",
      "8/8 [==============================] - 0s 11ms/step - loss: 4.0611 - val_loss: 4.0939\n",
      "Epoch 16/100\n",
      "8/8 [==============================] - 0s 12ms/step - loss: 3.6641 - val_loss: 3.8195\n",
      "Epoch 17/100\n",
      "8/8 [==============================] - 0s 14ms/step - loss: 3.4140 - val_loss: 3.6303\n",
      "Epoch 18/100\n",
      "8/8 [==============================] - 0s 13ms/step - loss: 3.2239 - val_loss: 3.4619\n",
      "Epoch 19/100\n",
      "8/8 [==============================] - 0s 13ms/step - loss: 3.0973 - val_loss: 3.3281\n",
      "Epoch 20/100\n",
      "8/8 [==============================] - 0s 13ms/step - loss: 2.9643 - val_loss: 3.1742\n",
      "Epoch 21/100\n",
      "8/8 [==============================] - 0s 14ms/step - loss: 2.8384 - val_loss: 3.0179\n",
      "Epoch 22/100\n",
      "8/8 [==============================] - 0s 19ms/step - loss: 2.7345 - val_loss: 2.9366\n",
      "Epoch 23/100\n",
      "8/8 [==============================] - 0s 16ms/step - loss: 2.6162 - val_loss: 2.8025\n",
      "Epoch 24/100\n",
      "8/8 [==============================] - 0s 19ms/step - loss: 2.5151 - val_loss: 2.6919\n",
      "Epoch 25/100\n",
      "8/8 [==============================] - 0s 19ms/step - loss: 2.4239 - val_loss: 2.6084\n",
      "Epoch 26/100\n",
      "8/8 [==============================] - 0s 19ms/step - loss: 2.3410 - val_loss: 2.5745\n",
      "Epoch 27/100\n",
      "8/8 [==============================] - 0s 13ms/step - loss: 2.2834 - val_loss: 2.4748\n",
      "Epoch 28/100\n",
      "8/8 [==============================] - 0s 10ms/step - loss: 2.2140 - val_loss: 2.4619\n",
      "Epoch 29/100\n",
      "8/8 [==============================] - 0s 10ms/step - loss: 2.1913 - val_loss: 2.4128\n",
      "Epoch 30/100\n",
      "8/8 [==============================] - 0s 11ms/step - loss: 2.1384 - val_loss: 2.3443\n",
      "Epoch 31/100\n",
      "8/8 [==============================] - 0s 14ms/step - loss: 2.1033 - val_loss: 2.4033\n",
      "Epoch 32/100\n",
      "8/8 [==============================] - 0s 17ms/step - loss: 2.0839 - val_loss: 2.3758\n",
      "Epoch 33/100\n",
      "8/8 [==============================] - 0s 13ms/step - loss: 2.0710 - val_loss: 2.3092\n",
      "Epoch 34/100\n",
      "8/8 [==============================] - 0s 12ms/step - loss: 2.0548 - val_loss: 2.3357\n",
      "Epoch 35/100\n",
      "8/8 [==============================] - 0s 10ms/step - loss: 2.0284 - val_loss: 2.3797\n",
      "Epoch 36/100\n",
      "8/8 [==============================] - 0s 11ms/step - loss: 2.0042 - val_loss: 2.2298\n",
      "Epoch 37/100\n",
      "8/8 [==============================] - 0s 11ms/step - loss: 1.9797 - val_loss: 2.2598\n",
      "Epoch 38/100\n",
      "8/8 [==============================] - 0s 11ms/step - loss: 1.9940 - val_loss: 2.3121\n",
      "Epoch 39/100\n",
      "8/8 [==============================] - 0s 11ms/step - loss: 1.9929 - val_loss: 2.1656\n",
      "Epoch 40/100\n",
      "8/8 [==============================] - 0s 10ms/step - loss: 1.9437 - val_loss: 2.2994\n",
      "Epoch 41/100\n",
      "8/8 [==============================] - 0s 11ms/step - loss: 1.9528 - val_loss: 2.2472\n",
      "Epoch 42/100\n",
      "8/8 [==============================] - 0s 11ms/step - loss: 1.9217 - val_loss: 2.1698\n",
      "Epoch 43/100\n",
      "8/8 [==============================] - 0s 10ms/step - loss: 1.9201 - val_loss: 2.2182\n",
      "Epoch 44/100\n",
      "8/8 [==============================] - 0s 11ms/step - loss: 1.8985 - val_loss: 2.2166\n",
      "Epoch 45/100\n",
      "8/8 [==============================] - 0s 11ms/step - loss: 1.8862 - val_loss: 2.2024\n",
      "Epoch 46/100\n",
      "8/8 [==============================] - 0s 10ms/step - loss: 1.8732 - val_loss: 2.2065\n",
      "Epoch 47/100\n",
      "8/8 [==============================] - 0s 11ms/step - loss: 1.8738 - val_loss: 2.2153\n",
      "Epoch 48/100\n",
      "8/8 [==============================] - 0s 10ms/step - loss: 1.8616 - val_loss: 2.1996\n",
      "Epoch 49/100\n",
      "8/8 [==============================] - 0s 11ms/step - loss: 1.8534 - val_loss: 2.2305\n",
      "Epoch 50/100\n",
      "8/8 [==============================] - 0s 10ms/step - loss: 1.8565 - val_loss: 2.1880\n",
      "Epoch 51/100\n",
      "8/8 [==============================] - 0s 11ms/step - loss: 1.8395 - val_loss: 2.2060\n",
      "Epoch 52/100\n",
      "8/8 [==============================] - 0s 10ms/step - loss: 1.8451 - val_loss: 2.1591\n",
      "Epoch 53/100\n",
      "8/8 [==============================] - 0s 10ms/step - loss: 1.8187 - val_loss: 2.2504\n",
      "Epoch 54/100\n",
      "8/8 [==============================] - 0s 10ms/step - loss: 1.8311 - val_loss: 2.2022\n",
      "Epoch 55/100\n",
      "8/8 [==============================] - 0s 11ms/step - loss: 1.8071 - val_loss: 2.1881\n",
      "Epoch 56/100\n",
      "8/8 [==============================] - 0s 11ms/step - loss: 1.7990 - val_loss: 2.1908\n",
      "Epoch 57/100\n",
      "8/8 [==============================] - 0s 11ms/step - loss: 1.7917 - val_loss: 2.1810\n",
      "Epoch 58/100\n",
      "8/8 [==============================] - 0s 10ms/step - loss: 1.7862 - val_loss: 2.1847\n",
      "Epoch 59/100\n",
      "8/8 [==============================] - 0s 10ms/step - loss: 1.7828 - val_loss: 2.1708\n",
      "Epoch 60/100\n",
      "8/8 [==============================] - 0s 11ms/step - loss: 1.7784 - val_loss: 2.1773\n",
      "Epoch 61/100\n",
      "8/8 [==============================] - 0s 10ms/step - loss: 1.7695 - val_loss: 2.2170\n",
      "Epoch 62/100\n",
      "8/8 [==============================] - 0s 10ms/step - loss: 1.7663 - val_loss: 2.1487\n",
      "Epoch 63/100\n",
      "8/8 [==============================] - 0s 11ms/step - loss: 1.7562 - val_loss: 2.1798\n",
      "Epoch 64/100\n",
      "8/8 [==============================] - 0s 10ms/step - loss: 1.7502 - val_loss: 2.1850\n",
      "Epoch 65/100\n",
      "8/8 [==============================] - 0s 10ms/step - loss: 1.7402 - val_loss: 2.1614\n",
      "Epoch 66/100\n",
      "8/8 [==============================] - 0s 13ms/step - loss: 1.7473 - val_loss: 2.1928\n",
      "Epoch 67/100\n",
      "8/8 [==============================] - 0s 13ms/step - loss: 1.7440 - val_loss: 2.1841\n",
      "Epoch 68/100\n",
      "8/8 [==============================] - 0s 11ms/step - loss: 1.7353 - val_loss: 2.1750\n",
      "Epoch 69/100\n",
      "8/8 [==============================] - 0s 11ms/step - loss: 1.7556 - val_loss: 2.1928\n",
      "Epoch 70/100\n",
      "8/8 [==============================] - 0s 10ms/step - loss: 1.7245 - val_loss: 2.1378\n",
      "Epoch 71/100\n",
      "8/8 [==============================] - 0s 11ms/step - loss: 1.7161 - val_loss: 2.1736\n",
      "Epoch 72/100\n",
      "8/8 [==============================] - 0s 11ms/step - loss: 1.7356 - val_loss: 2.1928\n",
      "Epoch 73/100\n",
      "8/8 [==============================] - 0s 10ms/step - loss: 1.7021 - val_loss: 2.1396\n",
      "Epoch 74/100\n",
      "8/8 [==============================] - 0s 11ms/step - loss: 1.7047 - val_loss: 2.1647\n",
      "Epoch 75/100\n",
      "8/8 [==============================] - 0s 11ms/step - loss: 1.7024 - val_loss: 2.1853\n",
      "Epoch 76/100\n",
      "8/8 [==============================] - 0s 11ms/step - loss: 1.6920 - val_loss: 2.1724\n",
      "Epoch 77/100\n",
      "8/8 [==============================] - 0s 12ms/step - loss: 1.7071 - val_loss: 2.2177\n",
      "Epoch 78/100\n",
      "8/8 [==============================] - 0s 11ms/step - loss: 1.6866 - val_loss: 2.1831\n",
      "Epoch 79/100\n",
      "8/8 [==============================] - 0s 11ms/step - loss: 1.6787 - val_loss: 2.1648\n",
      "Epoch 80/100\n",
      "8/8 [==============================] - 0s 12ms/step - loss: 1.6831 - val_loss: 2.1991\n",
      "Epoch 81/100\n",
      "8/8 [==============================] - 0s 11ms/step - loss: 1.6795 - val_loss: 2.1455\n",
      "Epoch 82/100\n",
      "8/8 [==============================] - 0s 11ms/step - loss: 1.6625 - val_loss: 2.1820\n",
      "Epoch 83/100\n",
      "8/8 [==============================] - 0s 10ms/step - loss: 1.6728 - val_loss: 2.1533\n",
      "Epoch 84/100\n",
      "8/8 [==============================] - 0s 10ms/step - loss: 1.6667 - val_loss: 2.1952\n",
      "Epoch 85/100\n",
      "8/8 [==============================] - 0s 11ms/step - loss: 1.6585 - val_loss: 2.1525\n",
      "Epoch 86/100\n",
      "8/8 [==============================] - 0s 11ms/step - loss: 1.6650 - val_loss: 2.1681\n",
      "Epoch 87/100\n",
      "8/8 [==============================] - 0s 11ms/step - loss: 1.6574 - val_loss: 2.1988\n",
      "Epoch 88/100\n",
      "8/8 [==============================] - 0s 12ms/step - loss: 1.6548 - val_loss: 2.1552\n",
      "Epoch 89/100\n",
      "8/8 [==============================] - 0s 10ms/step - loss: 1.6399 - val_loss: 2.2009\n",
      "Epoch 90/100\n",
      "8/8 [==============================] - 0s 13ms/step - loss: 1.6476 - val_loss: 2.1575\n",
      "Epoch 91/100\n",
      "8/8 [==============================] - 0s 12ms/step - loss: 1.6457 - val_loss: 2.1869\n",
      "Epoch 92/100\n",
      "8/8 [==============================] - 0s 12ms/step - loss: 1.6230 - val_loss: 2.1911\n",
      "Epoch 93/100\n",
      "8/8 [==============================] - 0s 11ms/step - loss: 1.6438 - val_loss: 2.1794\n",
      "Epoch 94/100\n",
      "8/8 [==============================] - 0s 11ms/step - loss: 1.6245 - val_loss: 2.1792\n",
      "Epoch 95/100\n",
      "8/8 [==============================] - 0s 10ms/step - loss: 1.6281 - val_loss: 2.1879\n",
      "Epoch 96/100\n",
      "8/8 [==============================] - 0s 12ms/step - loss: 1.6128 - val_loss: 2.1782\n",
      "Epoch 97/100\n",
      "8/8 [==============================] - 0s 10ms/step - loss: 1.6535 - val_loss: 2.1439\n",
      "Epoch 98/100\n",
      "8/8 [==============================] - 0s 10ms/step - loss: 1.6451 - val_loss: 2.2034\n",
      "Epoch 99/100\n",
      "8/8 [==============================] - 0s 12ms/step - loss: 1.6224 - val_loss: 2.1552\n",
      "Epoch 100/100\n",
      "8/8 [==============================] - 0s 12ms/step - loss: 1.6046 - val_loss: 2.2523\n"
     ]
    }
   ],
   "source": [
    "history = dnn_model.fit(\n",
    "    train_features,\n",
    "    train_labels,\n",
    "    validation_split=0.2,\n",
    "    verbose=1, epochs=100\n",
    ")"
   ]
  },
  {
   "cell_type": "code",
   "execution_count": 51,
   "metadata": {},
   "outputs": [
    {
     "data": {
      "image/png": "[encoded data removed]",
      "text/plain": [
       "<Figure size 432x288 with 1 Axes>"
      ]
     },
     "metadata": {
      "needs_background": "light"
     },
     "output_type": "display_data"
    }
   ],
   "source": [
    "plot_loss(history)"
   ]
  },
  {
   "cell_type": "code",
   "execution_count": 52,
   "metadata": {},
   "outputs": [],
   "source": [
    "# Collect results on the test set\n",
    "test_results['dnn_model'] = dnn_model.evaluate(test_features, test_labels, verbose=0)"
   ]
  },
  {
   "cell_type": "markdown",
   "metadata": {},
   "source": [
    "## Performance"
   ]
  },
  {
   "cell_type": "code",
   "execution_count": 53,
   "metadata": {},
   "outputs": [
    {
     "data": {
      "text/html": [
       "<div>\n",
       "<style scoped>\n",
       "    .dataframe tbody tr th:only-of-type {\n",
       "        vertical-align: middle;\n",
       "    }\n",
       "\n",
       "    .dataframe tbody tr th {\n",
       "        vertical-align: top;\n",
       "    }\n",
       "\n",
       "    .dataframe thead th {\n",
       "        text-align: right;\n",
       "    }\n",
       "</style>\n",
       "<table border=\"1\" class=\"dataframe\">\n",
       "  <thead>\n",
       "    <tr style=\"text-align: right;\">\n",
       "      <th></th>\n",
       "      <th>Mean absolute error [MPG]</th>\n",
       "    </tr>\n",
       "  </thead>\n",
       "  <tbody>\n",
       "    <tr>\n",
       "      <th>horsepower_model</th>\n",
       "      <td>3.650204</td>\n",
       "    </tr>\n",
       "    <tr>\n",
       "      <th>dnn_horsepower_model</th>\n",
       "      <td>2.919378</td>\n",
       "    </tr>\n",
       "    <tr>\n",
       "      <th>dnn_model</th>\n",
       "      <td>1.641863</td>\n",
       "    </tr>\n",
       "  </tbody>\n",
       "</table>\n",
       "</div>"
      ],
      "text/plain": [
       "                      Mean absolute error [MPG]\n",
       "horsepower_model                       3.650204\n",
       "dnn_horsepower_model                   2.919378\n",
       "dnn_model                              1.641863"
      ]
     },
     "execution_count": 53,
     "metadata": {},
     "output_type": "execute_result"
    }
   ],
   "source": [
    "#Since all models are now trained, lets review the performance\n",
    "pd.DataFrame(test_results, index=['Mean absolute error [MPG]']).T"
   ]
  },
  {
   "cell_type": "markdown",
   "metadata": {},
   "source": [
    "## Make prediction"
   ]
  },
  {
   "cell_type": "code",
   "execution_count": 54,
   "metadata": {},
   "outputs": [
    {
     "data": {
      "image/png": "[encoded data removed]",
      "text/plain": [
       "<Figure size 432x288 with 1 Axes>"
      ]
     },
     "metadata": {
      "needs_background": "light"
     },
     "output_type": "display_data"
    }
   ],
   "source": [
    "test_predictions = dnn_model.predict(test_features).flatten()\n",
    "\n",
    "a = plt.axes(aspect='equal')\n",
    "plt.scatter(test_labels, test_predictions)\n",
    "plt.xlabel('True Values [MPG]')\n",
    "plt.ylabel('Predictions [MPG]')\n",
    "lims = [0, 50]\n",
    "plt.xlim(lims)\n",
    "plt.ylim(lims)\n",
    "_ = plt.plot(lims, lims)"
   ]
  },
  {
   "cell_type": "markdown",
   "metadata": {},
   "source": [
    "### Error Distribution"
   ]
  },
  {
   "cell_type": "code",
   "execution_count": 55,
   "metadata": {},
   "outputs": [
    {
     "data": {
      "image/png": "[encoded data removed]",
      "text/plain": [
       "<Figure size 432x288 with 1 Axes>"
      ]
     },
     "metadata": {
      "needs_background": "light"
     },
     "output_type": "display_data"
    }
   ],
   "source": [
    "error = test_predictions - test_labels\n",
    "plt.hist(error, bins=25)\n",
    "plt.xlabel('Prediction Error [MPG]')\n",
    "_ = plt.ylabel('Count')"
   ]
  },
  {
   "cell_type": "markdown",
   "metadata": {},
   "source": [
    "## Save and load model"
   ]
  },
  {
   "cell_type": "code",
   "execution_count": 56,
   "metadata": {},
   "outputs": [
    {
     "name": "stdout",
     "output_type": "stream",
     "text": [
      "INFO:tensorflow:Assets written to: dnn_model\\assets\n"
     ]
    }
   ],
   "source": [
    "dnn_model.save('dnn_model')\n",
    "reloaded = tf.keras.models.load_model('dnn_model')\n",
    "\n",
    "test_results['reloaded'] = reloaded.evaluate(\n",
    "    test_features, test_labels, verbose=0)"
   ]
  }
 ],
 "metadata": {
  "interpreter": {
   "hash": "dd891bd4ff229218917dfb838dece41877a9c927387b5b352696ab24f3339c12"
  },
  "kernelspec": {
   "display_name": "Python 3.9.9 64-bit",
   "language": "python",
   "name": "python3"
  },
  "language_info": {
   "codemirror_mode": {
    "name": "ipython",
    "version": 3
   },
   "file_extension": ".py",
   "mimetype": "text/x-python",
   "name": "python",
   "nbconvert_exporter": "python",
   "pygments_lexer": "ipython3",
   "version": "3.9.9"
  },
  "orig_nbformat": 4
 },
 "nbformat": 4,
 "nbformat_minor": 2
}
